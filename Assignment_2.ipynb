{
  "nbformat": 4,
  "nbformat_minor": 0,
  "metadata": {
    "colab": {
      "provenance": []
    },
    "kernelspec": {
      "name": "python3",
      "display_name": "Python 3"
    },
    "language_info": {
      "name": "python"
    }
  },
  "cells": [
    {
      "cell_type": "markdown",
      "source": [
        "#Write a Python program to get a list, sorted in increasing order by the last element in each tuple from a given list of non-empty tuples\n",
        "\n",
        "\n",
        "\n",
        "\n",
        "\n"
      ],
      "metadata": {
        "id": "GceEwH_eYbgJ"
      }
    },
    {
      "cell_type": "code",
      "source": [
        "\n",
        "sample_list= [(2, 5), (1, 2), (4, 4), (2, 3), (2, 1)]\n",
        "print(\"sample input:\", str(sample_list) )\n",
        "\n",
        "n= len(sample_list)\n",
        "\n",
        "for i in range(0,n):\n",
        "  for j in range(0, n - i - 1):\n",
        "    if (sample_list[j][-1])> sample_list[j+1][-1]:\n",
        "      swap = sample_list[j]\n",
        "      sample_list[j] = sample_list[j+1]\n",
        "      sample_list[j+1] = swap\n",
        "print(\"Output\", str(sample_list))\n",
        "\n"
      ],
      "metadata": {
        "colab": {
          "base_uri": "https://localhost:8080/"
        },
        "id": "CImlsqTJdtdm",
        "outputId": "669dc95f-1089-4c64-de3f-d044f88e6890"
      },
      "execution_count": 66,
      "outputs": [
        {
          "output_type": "stream",
          "name": "stdout",
          "text": [
            "sample input: [(2, 5), (1, 2), (4, 4), (2, 3), (2, 1)]\n",
            "Output [(2, 1), (1, 2), (2, 3), (4, 4), (2, 5)]\n"
          ]
        }
      ]
    },
    {
      "cell_type": "markdown",
      "source": [
        "#Write a Python program to print a dictionary whose keys should be the alphabet from a-z and the value should be corresponding ASCII values"
      ],
      "metadata": {
        "id": "3UDDFpoV7f8S"
      }
    },
    {
      "cell_type": "code",
      "source": [
        "d = {}\n",
        "\n",
        "for i in range(97, 97+26):\n",
        "  d[chr(i)]= i\n",
        "\n",
        "print(d, end=\" \")"
      ],
      "metadata": {
        "colab": {
          "base_uri": "https://localhost:8080/"
        },
        "id": "cbh49VQMi7t4",
        "outputId": "2cf72b5b-300c-4da7-d5a4-8121e5485cbf"
      },
      "execution_count": 67,
      "outputs": [
        {
          "output_type": "stream",
          "name": "stdout",
          "text": [
            "{'a': 97, 'b': 98, 'c': 99, 'd': 100, 'e': 101, 'f': 102, 'g': 103, 'h': 104, 'i': 105, 'j': 106, 'k': 107, 'l': 108, 'm': 109, 'n': 110, 'o': 111, 'p': 112, 'q': 113, 'r': 114, 's': 115, 't': 116, 'u': 117, 'v': 118, 'w': 119, 'x': 120, 'y': 121, 'z': 122} "
          ]
        }
      ]
    },
    {
      "cell_type": "code",
      "source": [],
      "metadata": {
        "id": "ys2NXS9X7vMK"
      },
      "execution_count": null,
      "outputs": []
    }
  ]
}